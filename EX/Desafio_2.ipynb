{
 "cells": [
  {
   "cell_type": "markdown",
   "id": "81c18885",
   "metadata": {},
   "source": [
    "Crear sus propios vectores con Gensim basado en lo visto en clase con otro dataset.\n",
    "Probar términos de interés y explicar similitudes en el espacio de embeddings.\n",
    "Intentar plantear y probar tests de analogías. Graficar los embeddings resultantes.\n",
    "Sacar conclusiones."
   ]
  }
 ],
 "metadata": {
  "language_info": {
   "name": "python"
  }
 },
 "nbformat": 4,
 "nbformat_minor": 5
}
