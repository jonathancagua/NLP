{
  "nbformat": 4,
  "nbformat_minor": 0,
  "metadata": {
    "colab": {
      "provenance": [],
      "gpuType": "T4",
      "authorship_tag": "ABX9TyMDnk2pw8KHeypHxQn6FWEh",
      "include_colab_link": true
    },
    "kernelspec": {
      "name": "python3",
      "display_name": "Python 3"
    },
    "language_info": {
      "name": "python"
    },
    "accelerator": "GPU"
  },
  "cells": [
    {
      "cell_type": "markdown",
      "metadata": {
        "id": "view-in-github",
        "colab_type": "text"
      },
      "source": [
        "<a href=\"https://colab.research.google.com/github/jonathancagua/NLP/blob/main/EX/Desafio_3.ipynb\" target=\"_parent\"><img src=\"https://colab.research.google.com/assets/colab-badge.svg\" alt=\"Open In Colab\"/></a>"
      ]
    },
    {
      "cell_type": "markdown",
      "source": [
        "**Versión corta del desafío:**\n",
        "\n",
        "Crear un modelo de lenguaje carácter a carácter usando redes recurrentes (SimpleRNN, LSTM o GRU). Se debe preprocesar el texto, estructurar el problema como many-to-many, entrenar con RMSprop, evaluar con perplejidad y generar texto con técnicas como greedy, beam search y muestreo con temperatura.\n"
      ],
      "metadata": {
        "id": "cGUVej65JEPV"
      }
    },
    {
      "cell_type": "code",
      "execution_count": 1,
      "metadata": {
        "id": "FV7gA9x_IA25"
      },
      "outputs": [],
      "source": [
        "import requests\n",
        "import re\n",
        "import os\n",
        "import tensorflow as tf\n",
        "import heapq\n",
        "import numpy as np\n",
        "\n",
        "from tensorflow.keras.layers import TextVectorization\n",
        "from tensorflow.keras.models import Sequential\n",
        "from tensorflow.keras.layers import Embedding, LSTM, Dense\n",
        "from tensorflow.keras.optimizers import RMSprop\n",
        "\n",
        "os.environ['TF_CPP_MIN_LOG_LEVEL'] = '2'"
      ]
    },
    {
      "cell_type": "code",
      "source": [
        "\n",
        "url = \"https://www.gutenberg.org/files/45438/45438-0.txt\"\n",
        "\n",
        "def descargar_texto(url):\n",
        "    try:\n",
        "        response = requests.get(url, timeout=10)\n",
        "        response.raise_for_status()\n",
        "        texto = response.text\n",
        "        print(f\"Texto descargado con éxito ({len(texto)} caracteres).\")\n",
        "        return texto\n",
        "    except requests.exceptions.RequestException as e:\n",
        "        print(\"Error al descargar el texto:\", e)\n",
        "        return None\n",
        "\n",
        "def limpiar_texto(texto, inicio, fin):\n",
        "    # Buscar los índices de inicio y fin\n",
        "    start_idx = texto.find(inicio)\n",
        "    end_idx = texto.rfind(fin)\n",
        "\n",
        "    if start_idx == -1 or end_idx == -1:\n",
        "        print(\"No se encontraron los marcadores de inicio o fin.\")\n",
        "        return None\n",
        "\n",
        "    texto_recortado = texto[start_idx:end_idx]\n",
        "\n",
        "    # Limpiar múltiples espacios, saltos de línea y caracteres raros\n",
        "    texto_limpio = re.sub(r'\\s+', ' ', texto_recortado).strip()\n",
        "    return texto_limpio"
      ],
      "metadata": {
        "id": "MsuaKDcFKNaB"
      },
      "execution_count": 2,
      "outputs": []
    },
    {
      "cell_type": "code",
      "source": [
        "# Descargar y limpiar el texto\n",
        "texto_crudo = descargar_texto(url)\n",
        "\n",
        "if texto_crudo:\n",
        "    inicio = \"La isla del tesoro\"\n",
        "    fin = \"FIN\"\n",
        "\n",
        "    texto_limpio = limpiar_texto(texto_crudo, inicio, fin)\n",
        "\n",
        "    if texto_limpio:\n",
        "        print(\"Texto limpio (primeros 1000 caracteres):\\n\")\n",
        "        print(texto_limpio[:1000])"
      ],
      "metadata": {
        "colab": {
          "base_uri": "https://localhost:8080/"
        },
        "id": "IcwEtuS9Ku7D",
        "outputId": "34a602a1-cc29-41ab-c893-3e6726dc0452"
      },
      "execution_count": 3,
      "outputs": [
        {
          "output_type": "stream",
          "name": "stdout",
          "text": [
            "Texto descargado con éxito (541567 caracteres).\n",
            "Texto limpio (primeros 1000 caracteres):\n",
            "\n",
            "La isla del tesoro, by Robert Louis Stevenson This eBook is for the use of anyone anywhere at no cost and with almost no restrictions whatsoever. You may copy it, give it away or re-use it under the terms of the Project Gutenberg License included with this eBook or online at www.gutenberg.org/license Title: La isla del tesoro Author: Robert Louis Stevenson Translator: Manuel Caballero Release Date: April 19, 2014 [EBook #45438] Language: Spanish *** START OF THIS PROJECT GUTENBERG EBOOK LA ISLA DEL TESORO *** Produced by Mark C. Orton, Chuck Greif and the Online Distributed Proofreading Team at http://www.pgdp.net (This book was produced from scanned images of public domain material from the Google Print project.) LA ISLA DEL TESORO \"=La Guardia Blanca.=--Es el título de una novela escrita en inglés por Conan Doyle y publicada en español por la casa de Appleton de Nueva York, que acabamos de leer con toda complacencia, una vez que reune á su ingenio y fácil lenguaje, un tema muy bien u\n"
          ]
        }
      ]
    },
    {
      "cell_type": "code",
      "source": [
        "# Definir longitud de secuencia (100 caracteres de entrada + 1 para el siguiente carácter)\n",
        "seq_length = 100\n",
        "\n",
        "# Crear la capa de vectorización\n",
        "vectorizer = TextVectorization(\n",
        "    standardize=None,              # No queremos limpieza adicional\n",
        "    split='character',             # Tokenización por carácter\n",
        "    output_mode='int',             # Salida como enteros\n",
        "    output_sequence_length=seq_length + 1\n",
        ")\n",
        "\n",
        "# Adaptar el vectorizador al texto limpio\n",
        "vectorizer.adapt([texto_limpio])\n",
        "\n",
        "# Obtener vocabulario y tamaño\n",
        "vocab = vectorizer.get_vocabulary()\n",
        "vocab_size = len(vocab)\n",
        "\n",
        "print(\"Tamaño del vocabulario (caracteres únicos):\", vocab_size)\n",
        "print(\"Primeros 20 tokens del vocabulario:\", vocab[:20])"
      ],
      "metadata": {
        "colab": {
          "base_uri": "https://localhost:8080/"
        },
        "id": "buNm0J4RNvmc",
        "outputId": "c254be03-e388-4a34-cbe2-fef1dbc0f979"
      },
      "execution_count": 4,
      "outputs": [
        {
          "output_type": "stream",
          "name": "stdout",
          "text": [
            "Tamaño del vocabulario (caracteres únicos): 99\n",
            "Primeros 20 tokens del vocabulario: ['', '[UNK]', np.str_(' '), np.str_('e'), np.str_('a'), np.str_('o'), np.str_('s'), np.str_('n'), np.str_('r'), np.str_('l'), np.str_('i'), np.str_('d'), np.str_('u'), np.str_('t'), np.str_('c'), np.str_('m'), np.str_('p'), np.str_('b'), np.str_(','), np.str_('q')]\n"
          ]
        }
      ]
    },
    {
      "cell_type": "code",
      "source": [
        "# Parámetros\n",
        "seq_length = 100       # longitud de entrada\n",
        "batch_size = 64        # tamaño del batch\n",
        "buffer_size = 10000    # para shuffle\n",
        "val_split = 0.1        # porcentaje para validación\n",
        "\n",
        "# Vectorizador SIN truncamiento\n",
        "full_vectorizer = TextVectorization(\n",
        "    standardize=None,\n",
        "    split='character',\n",
        "    output_mode='int'\n",
        ")\n",
        "full_vectorizer.adapt([texto_limpio])\n",
        "\n",
        "# Convertir texto limpio en tensores de enteros\n",
        "vectorized_text = tf.squeeze(full_vectorizer([texto_limpio]))\n",
        "\n",
        "# Crear dataset de secuencias deslizantes (longitud 101: 100 entrada + 1 target)\n",
        "sequences = tf.data.Dataset.from_tensor_slices(vectorized_text)\n",
        "sequences = sequences.window(seq_length + 1, shift=1, drop_remainder=True)\n",
        "sequences = sequences.flat_map(lambda window: window.batch(seq_length + 1))\n",
        "\n",
        "# Separar entrada y objetivo\n",
        "def split_input_target(seq):\n",
        "    input_seq = seq[:-1]\n",
        "    target_seq = seq[1:]\n",
        "    return input_seq, target_seq\n",
        "\n",
        "sequences = sequences.map(split_input_target, num_parallel_calls=tf.data.AUTOTUNE)\n",
        "\n",
        "# Contar número total de secuencias\n",
        "total_sequences = sequences.reduce(0, lambda count, _: count + 1).numpy()\n",
        "print(\"Total de secuencias:\", total_sequences)\n",
        "\n",
        "# División en conjunto de entrenamiento y validación\n",
        "val_size = int(total_sequences * val_split)\n",
        "indexed_sequences = sequences.enumerate()\n",
        "\n",
        "# Dataset de validación\n",
        "val_dataset = (\n",
        "    indexed_sequences\n",
        "    .filter(lambda i, _: i < val_size)\n",
        "    .map(lambda _, seq: seq, num_parallel_calls=tf.data.AUTOTUNE)\n",
        "    .batch(batch_size, drop_remainder=True)\n",
        "    .prefetch(tf.data.AUTOTUNE)\n",
        ")\n",
        "\n",
        "# Dataset de entrenamiento\n",
        "train_dataset = (\n",
        "    indexed_sequences\n",
        "    .filter(lambda i, _: i >= val_size)\n",
        "    .map(lambda _, seq: seq, num_parallel_calls=tf.data.AUTOTUNE)\n",
        "    .shuffle(buffer_size)\n",
        "    .batch(batch_size, drop_remainder=True)\n",
        "    .prefetch(tf.data.AUTOTUNE)\n",
        ")\n"
      ],
      "metadata": {
        "colab": {
          "base_uri": "https://localhost:8080/"
        },
        "id": "bL9c1puVOUkl",
        "outputId": "2f626637-6b42-4e2a-aaf3-eef93eac8519"
      },
      "execution_count": 5,
      "outputs": [
        {
          "output_type": "stream",
          "name": "stdout",
          "text": [
            "Total de secuencias: 499887\n"
          ]
        }
      ]
    },
    {
      "cell_type": "code",
      "source": [
        "from tensorflow.keras import backend as K\n",
        "# Limpiar sesiones anteriores (buena práctica al reentrenar)\n",
        "K.clear_session()\n",
        "\n",
        "# Vocabulario\n",
        "vocab = full_vectorizer.get_vocabulary()\n",
        "vocab_size = len(vocab)\n",
        "\n",
        "# Hiperparámetros\n",
        "embedding_dim = 256\n",
        "lstm_units = 512\n",
        "\n",
        "# Definir modelo secuencial\n",
        "model = Sequential([\n",
        "    Embedding(input_dim=vocab_size, output_dim=embedding_dim),\n",
        "    LSTM(lstm_units, return_sequences=True),\n",
        "    Dense(vocab_size, activation='softmax')\n",
        "])\n",
        "\n",
        "# Función de métrica: Perplejidad\n",
        "def perplexity(y_true, y_pred):\n",
        "    loss = K.sparse_categorical_crossentropy(y_true, y_pred)\n",
        "    return K.exp(K.mean(loss))\n",
        "\n",
        "# Compilar modelo\n",
        "model.compile(\n",
        "    optimizer=RMSprop(learning_rate=0.001),  # puede ajustarse más adelante\n",
        "    loss='sparse_categorical_crossentropy',\n",
        "    metrics=[perplexity]\n",
        ")\n",
        "\n",
        "# Construir el modelo con la forma esperada de entrada\n",
        "model.build(input_shape=(None, seq_length))\n",
        "\n",
        "# Mostrar resumen\n",
        "model.summary()"
      ],
      "metadata": {
        "colab": {
          "base_uri": "https://localhost:8080/",
          "height": 238
        },
        "id": "wL8goiZaQ3bC",
        "outputId": "12ff582a-2bdc-47c3-87a4-98e8d4d25dd4"
      },
      "execution_count": 6,
      "outputs": [
        {
          "output_type": "display_data",
          "data": {
            "text/plain": [
              "\u001b[1mModel: \"sequential\"\u001b[0m\n"
            ],
            "text/html": [
              "<pre style=\"white-space:pre;overflow-x:auto;line-height:normal;font-family:Menlo,'DejaVu Sans Mono',consolas,'Courier New',monospace\"><span style=\"font-weight: bold\">Model: \"sequential\"</span>\n",
              "</pre>\n"
            ]
          },
          "metadata": {}
        },
        {
          "output_type": "display_data",
          "data": {
            "text/plain": [
              "┏━━━━━━━━━━━━━━━━━━━━━━━━━━━━━━━━━┳━━━━━━━━━━━━━━━━━━━━━━━━┳━━━━━━━━━━━━━━━┓\n",
              "┃\u001b[1m \u001b[0m\u001b[1mLayer (type)                   \u001b[0m\u001b[1m \u001b[0m┃\u001b[1m \u001b[0m\u001b[1mOutput Shape          \u001b[0m\u001b[1m \u001b[0m┃\u001b[1m \u001b[0m\u001b[1m      Param #\u001b[0m\u001b[1m \u001b[0m┃\n",
              "┡━━━━━━━━━━━━━━━━━━━━━━━━━━━━━━━━━╇━━━━━━━━━━━━━━━━━━━━━━━━╇━━━━━━━━━━━━━━━┩\n",
              "│ embedding (\u001b[38;5;33mEmbedding\u001b[0m)           │ (\u001b[38;5;45mNone\u001b[0m, \u001b[38;5;34m100\u001b[0m, \u001b[38;5;34m256\u001b[0m)       │        \u001b[38;5;34m25,344\u001b[0m │\n",
              "├─────────────────────────────────┼────────────────────────┼───────────────┤\n",
              "│ lstm (\u001b[38;5;33mLSTM\u001b[0m)                     │ (\u001b[38;5;45mNone\u001b[0m, \u001b[38;5;34m100\u001b[0m, \u001b[38;5;34m512\u001b[0m)       │     \u001b[38;5;34m1,574,912\u001b[0m │\n",
              "├─────────────────────────────────┼────────────────────────┼───────────────┤\n",
              "│ dense (\u001b[38;5;33mDense\u001b[0m)                   │ (\u001b[38;5;45mNone\u001b[0m, \u001b[38;5;34m100\u001b[0m, \u001b[38;5;34m99\u001b[0m)        │        \u001b[38;5;34m50,787\u001b[0m │\n",
              "└─────────────────────────────────┴────────────────────────┴───────────────┘\n"
            ],
            "text/html": [
              "<pre style=\"white-space:pre;overflow-x:auto;line-height:normal;font-family:Menlo,'DejaVu Sans Mono',consolas,'Courier New',monospace\">┏━━━━━━━━━━━━━━━━━━━━━━━━━━━━━━━━━┳━━━━━━━━━━━━━━━━━━━━━━━━┳━━━━━━━━━━━━━━━┓\n",
              "┃<span style=\"font-weight: bold\"> Layer (type)                    </span>┃<span style=\"font-weight: bold\"> Output Shape           </span>┃<span style=\"font-weight: bold\">       Param # </span>┃\n",
              "┡━━━━━━━━━━━━━━━━━━━━━━━━━━━━━━━━━╇━━━━━━━━━━━━━━━━━━━━━━━━╇━━━━━━━━━━━━━━━┩\n",
              "│ embedding (<span style=\"color: #0087ff; text-decoration-color: #0087ff\">Embedding</span>)           │ (<span style=\"color: #00d7ff; text-decoration-color: #00d7ff\">None</span>, <span style=\"color: #00af00; text-decoration-color: #00af00\">100</span>, <span style=\"color: #00af00; text-decoration-color: #00af00\">256</span>)       │        <span style=\"color: #00af00; text-decoration-color: #00af00\">25,344</span> │\n",
              "├─────────────────────────────────┼────────────────────────┼───────────────┤\n",
              "│ lstm (<span style=\"color: #0087ff; text-decoration-color: #0087ff\">LSTM</span>)                     │ (<span style=\"color: #00d7ff; text-decoration-color: #00d7ff\">None</span>, <span style=\"color: #00af00; text-decoration-color: #00af00\">100</span>, <span style=\"color: #00af00; text-decoration-color: #00af00\">512</span>)       │     <span style=\"color: #00af00; text-decoration-color: #00af00\">1,574,912</span> │\n",
              "├─────────────────────────────────┼────────────────────────┼───────────────┤\n",
              "│ dense (<span style=\"color: #0087ff; text-decoration-color: #0087ff\">Dense</span>)                   │ (<span style=\"color: #00d7ff; text-decoration-color: #00d7ff\">None</span>, <span style=\"color: #00af00; text-decoration-color: #00af00\">100</span>, <span style=\"color: #00af00; text-decoration-color: #00af00\">99</span>)        │        <span style=\"color: #00af00; text-decoration-color: #00af00\">50,787</span> │\n",
              "└─────────────────────────────────┴────────────────────────┴───────────────┘\n",
              "</pre>\n"
            ]
          },
          "metadata": {}
        },
        {
          "output_type": "display_data",
          "data": {
            "text/plain": [
              "\u001b[1m Total params: \u001b[0m\u001b[38;5;34m1,651,043\u001b[0m (6.30 MB)\n"
            ],
            "text/html": [
              "<pre style=\"white-space:pre;overflow-x:auto;line-height:normal;font-family:Menlo,'DejaVu Sans Mono',consolas,'Courier New',monospace\"><span style=\"font-weight: bold\"> Total params: </span><span style=\"color: #00af00; text-decoration-color: #00af00\">1,651,043</span> (6.30 MB)\n",
              "</pre>\n"
            ]
          },
          "metadata": {}
        },
        {
          "output_type": "display_data",
          "data": {
            "text/plain": [
              "\u001b[1m Trainable params: \u001b[0m\u001b[38;5;34m1,651,043\u001b[0m (6.30 MB)\n"
            ],
            "text/html": [
              "<pre style=\"white-space:pre;overflow-x:auto;line-height:normal;font-family:Menlo,'DejaVu Sans Mono',consolas,'Courier New',monospace\"><span style=\"font-weight: bold\"> Trainable params: </span><span style=\"color: #00af00; text-decoration-color: #00af00\">1,651,043</span> (6.30 MB)\n",
              "</pre>\n"
            ]
          },
          "metadata": {}
        },
        {
          "output_type": "display_data",
          "data": {
            "text/plain": [
              "\u001b[1m Non-trainable params: \u001b[0m\u001b[38;5;34m0\u001b[0m (0.00 B)\n"
            ],
            "text/html": [
              "<pre style=\"white-space:pre;overflow-x:auto;line-height:normal;font-family:Menlo,'DejaVu Sans Mono',consolas,'Courier New',monospace\"><span style=\"font-weight: bold\"> Non-trainable params: </span><span style=\"color: #00af00; text-decoration-color: #00af00\">0</span> (0.00 B)\n",
              "</pre>\n"
            ]
          },
          "metadata": {}
        }
      ]
    },
    {
      "cell_type": "markdown",
      "source": [
        "Tu modelo LSTM de generación de texto carácter a carácter cuenta con aproximadamente 1.65 millones de parámetros, lo que le brinda una buena capacidad para aprender patrones complejos en el lenguaje, sin ser excesivamente grande. La arquitectura, compuesta por una capa de embedding, una LSTM con 512 unidades y una capa densa de salida, está bien equilibrada para capturar relaciones a largo plazo entre caracteres. Es adecuado para tareas de modelado de lenguaje, permitiendo generar texto coherente una vez entrenado. La forma de salida (None, 100, 99) asegura que el modelo predice una secuencia completa de caracteres, siendo ideal para aplicaciones como autocompletado o generación creativa."
      ],
      "metadata": {
        "id": "bpy4vNKwSTEL"
      }
    },
    {
      "cell_type": "code",
      "source": [
        "from tensorflow.keras.callbacks import EarlyStopping, ModelCheckpoint\n",
        "\n",
        "# Guardar el mejor modelo basado en perplejidad\n",
        "checkpoint = ModelCheckpoint(\n",
        "    filepath='modelo_lstm_char.keras',\n",
        "    monitor='val_perplexity',\n",
        "    save_best_only=True,\n",
        "    save_weights_only=False,\n",
        "    mode='min'\n",
        ")\n",
        "\n",
        "# Early stopping para evitar sobreajuste\n",
        "early_stop = EarlyStopping(\n",
        "    monitor='val_perplexity',\n",
        "    patience=3,\n",
        "    restore_best_weights=True,\n",
        "    mode='min'\n",
        ")\n",
        "\n",
        "# ⚙️ Pasar la cantidad de batches por época (calculada previamente)\n",
        "steps_per_epoch = 1000\n",
        "\n",
        "# Entrenar el modelo correctamente\n",
        "history = model.fit(\n",
        "    train_dataset.repeat(),             # <-- permite múltiples épocas\n",
        "    validation_data=val_dataset,\n",
        "    epochs=20,\n",
        "    steps_per_epoch=steps_per_epoch,\n",
        "    callbacks=[early_stop, checkpoint]\n",
        ")\n",
        "\n",
        "import matplotlib.pyplot as plt\n",
        "\n",
        "plt.plot(history.history['perplexity'], label='Perplejidad - Entrenamiento')\n",
        "plt.plot(history.history['val_perplexity'], label='Perplejidad - Validación')\n",
        "plt.xlabel('Época')\n",
        "plt.ylabel('Perplejidad')\n",
        "plt.legend()\n",
        "plt.grid(True)\n",
        "plt.title('Perplejidad durante el entrenamiento')\n",
        "plt.show()\n"
      ],
      "metadata": {
        "colab": {
          "base_uri": "https://localhost:8080/",
          "height": 613
        },
        "id": "K6XuM5rNTKjr",
        "outputId": "d530e018-70ac-455b-e47c-fe6623e602c0"
      },
      "execution_count": 22,
      "outputs": [
        {
          "output_type": "stream",
          "name": "stdout",
          "text": [
            "Epoch 1/20\n",
            "\u001b[1m1000/1000\u001b[0m \u001b[32m━━━━━━━━━━━━━━━━━━━━\u001b[0m\u001b[37m\u001b[0m \u001b[1m144s\u001b[0m 131ms/step - loss: 1.4617 - perplexity: 4.3615 - val_loss: 2.0143 - val_perplexity: 9.6359\n",
            "Epoch 2/20\n",
            "\u001b[1m1000/1000\u001b[0m \u001b[32m━━━━━━━━━━━━━━━━━━━━\u001b[0m\u001b[37m\u001b[0m \u001b[1m143s\u001b[0m 144ms/step - loss: 1.0401 - perplexity: 2.8353 - val_loss: 2.2346 - val_perplexity: 12.9620\n",
            "Epoch 3/20\n",
            "\u001b[1m1000/1000\u001b[0m \u001b[32m━━━━━━━━━━━━━━━━━━━━\u001b[0m\u001b[37m\u001b[0m \u001b[1m143s\u001b[0m 143ms/step - loss: 0.8011 - perplexity: 2.2337 - val_loss: 2.4619 - val_perplexity: 17.3994\n",
            "Epoch 4/20\n",
            "\u001b[1m1000/1000\u001b[0m \u001b[32m━━━━━━━━━━━━━━━━━━━━\u001b[0m\u001b[37m\u001b[0m \u001b[1m145s\u001b[0m 145ms/step - loss: 0.5744 - perplexity: 1.7788 - val_loss: 2.6179 - val_perplexity: 24.3108\n"
          ]
        },
        {
          "output_type": "display_data",
          "data": {
            "text/plain": [
              "<Figure size 640x480 with 1 Axes>"
            ],
            "image/png": "[encoded data removed]"
          },
          "metadata": {}
        }
      ]
    },
    {
      "cell_type": "code",
      "source": [
        "# Diccionarios de mapeo: índice <-> carácter\n",
        "vocab = full_vectorizer.get_vocabulary()\n",
        "char2idx = {c: i for i, c in enumerate(vocab)}\n",
        "idx2char = {i: c for i, c in enumerate(vocab)}\n",
        "\n",
        "# Codificar texto a índices\n",
        "def encode_text(text):\n",
        "    return [char2idx.get(c, char2idx['[UNK]']) for c in text] if '[UNK]' in char2idx else [char2idx.get(c, 1) for c in text]\n",
        "\n",
        "# Decodificar secuencia de índices a texto\n",
        "def decode_sequence(seq):\n",
        "    return ''.join([idx2char.get(i, '') for i in seq])\n",
        "\n",
        "# Función de generación con estrategia greedy\n",
        "def generate_greedy(model, start_text, length=300):\n",
        "    # Codificar texto inicial\n",
        "    input_eval = tf.expand_dims(encode_text(start_text), 0)\n",
        "    generated = list(input_eval.numpy()[0])\n",
        "\n",
        "    # Generar nuevos caracteres uno por uno\n",
        "    for _ in range(length):\n",
        "        # Predecir la distribución de probabilidad para el siguiente carácter\n",
        "        predictions = model(input_eval)\n",
        "        predictions = predictions[:, -1, :]  # Tomar la última predicción\n",
        "\n",
        "        # Elegir el carácter más probable (greedy)\n",
        "        next_id = tf.argmax(predictions, axis=-1).numpy()[0]\n",
        "\n",
        "        # Agregar y preparar nuevo input\n",
        "        generated.append(next_id)\n",
        "        input_eval = tf.expand_dims(generated[-seq_length:], 0)\n",
        "\n",
        "    # Decodificar la secuencia generada\n",
        "    return decode_sequence(generated)\n",
        "\n"
      ],
      "metadata": {
        "id": "n-V_hToxYjws"
      },
      "execution_count": 24,
      "outputs": []
    },
    {
      "cell_type": "code",
      "source": [
        "print(generate_greedy(model, \"Había una vez\", length=300))"
      ],
      "metadata": {
        "colab": {
          "base_uri": "https://localhost:8080/"
        },
        "id": "AKcoL751YpT1",
        "outputId": "60a77e34-bebb-4e86-9d87-78140b17a3b9"
      },
      "execution_count": 30,
      "outputs": [
        {
          "output_type": "stream",
          "name": "stdout",
          "text": [
            "Había una vez en el mismo inmediatamente y al más así en que no había visto de las merinos y contentar á nuestros habría de aquel momento, recirán aquí, en la primera ojeada que estaba en la marinero, y de nuevo á lo que hacía en su estaba á su servió y se precipitón, y se freía muy contramente y con esta verdad\n"
          ]
        }
      ]
    },
    {
      "cell_type": "markdown",
      "source": [
        "Conclusion: no existe frases repetitivas y tiene coherencia lo que parece que el modelo aprendio bien en epoch de 1000\n"
      ],
      "metadata": {
        "id": "BBIRwxJ4e2QB"
      }
    },
    {
      "cell_type": "code",
      "source": [
        "import numpy as np\n",
        "import heapq\n",
        "import tensorflow as tf\n",
        "\n",
        "def generate_beam_search(model, start_text, length=300, beam_width=3):\n",
        "    input_ids = encode_text(start_text)\n",
        "    sequences = [(0.0, input_ids)]\n",
        "\n",
        "    for _ in range(length):\n",
        "        all_candidates = []\n",
        "        for log_prob, seq in sequences:\n",
        "            input_eval = tf.expand_dims(seq[-seq_length:], 0)\n",
        "            predictions = model(input_eval)\n",
        "            predictions = predictions[:, -1, :].numpy()[0]\n",
        "\n",
        "            # Tomamos los top-k candidatos\n",
        "            top_k_ids = np.argsort(predictions)[-beam_width:][::-1]\n",
        "\n",
        "            for idx in top_k_ids:\n",
        "                prob = predictions[idx]\n",
        "                candidate = (log_prob + np.log(prob + 1e-10), seq + [idx])\n",
        "                all_candidates.append(candidate)\n",
        "\n",
        "        # Mantener solo los beam_width mejores\n",
        "        sequences = heapq.nlargest(beam_width, all_candidates, key=lambda x: x[0])\n",
        "\n",
        "    # Devolver la mejor secuencia generada\n",
        "    best_seq = max(sequences, key=lambda x: x[0])[1]\n",
        "    return decode_sequence(best_seq)\n"
      ],
      "metadata": {
        "id": "Lds6iJJcfKQ3"
      },
      "execution_count": 32,
      "outputs": []
    },
    {
      "cell_type": "code",
      "source": [
        "generate_beam_search(model, \"Había una vez\", length=300, beam_width=5)"
      ],
      "metadata": {
        "colab": {
          "base_uri": "https://localhost:8080/",
          "height": 53
        },
        "id": "EerBdNE0fRQj",
        "outputId": "9bf55856-01e8-4945-cc17-769d2151ac2d"
      },
      "execution_count": 33,
      "outputs": [
        {
          "output_type": "execute_result",
          "data": {
            "text/plain": [
              "'Había una vez en el mismo inmediatamente y yo nos habríamos de los parroquianos que estaban en aquellos momentos, con una verdadera todos los marineros que estaban concontramente á aquel momento, por una verdadera todos los marineros que estaban concontramente á aquel momento, por una verdadera todos los marinos'"
            ],
            "application/vnd.google.colaboratory.intrinsic+json": {
              "type": "string"
            }
          },
          "metadata": {},
          "execution_count": 33
        }
      ]
    },
    {
      "cell_type": "code",
      "source": [
        "def generate_beam_search_stochastic(model, start_text, length=300, beam_width=3, temperature=1.0):\n",
        "    assert temperature > 0, \"La temperatura debe ser mayor que cero.\"\n",
        "    assert beam_width >= 1, \"El beam_width debe ser al menos 1.\"\n",
        "\n",
        "    epsilon = 1e-8\n",
        "    input_ids = encode_text(start_text)\n",
        "    sequences = [(0.0, input_ids)]  # Lista de (log_prob acumulada, secuencia)\n",
        "\n",
        "    for _ in range(length):\n",
        "        all_candidates = []\n",
        "\n",
        "        for log_prob, seq in sequences:\n",
        "            input_eval = tf.expand_dims(seq[-seq_length:], 0)\n",
        "            predictions = model(input_eval)\n",
        "            logits = predictions[:, -1, :].numpy()[0]\n",
        "\n",
        "            # Aplicar temperatura y convertir a distribución de probabilidad\n",
        "            scaled_logits = np.log(np.maximum(logits, epsilon)) / temperature\n",
        "            probs = np.exp(scaled_logits - np.max(scaled_logits))  # estabilidad numérica\n",
        "            probs /= np.sum(probs)\n",
        "\n",
        "            # Muestreo estocástico de los próximos candidatos\n",
        "            sampled_ids = np.random.choice(len(probs), size=beam_width, replace=False, p=probs)\n",
        "\n",
        "            for idx in sampled_ids:\n",
        "                new_log_prob = log_prob + np.log(np.maximum(probs[idx], epsilon))\n",
        "                new_seq = seq + [idx]\n",
        "                all_candidates.append((new_log_prob, new_seq))\n",
        "\n",
        "        # Mantener los beam_width mejores candidatos\n",
        "        sequences = heapq.nlargest(beam_width, all_candidates, key=lambda x: x[0])\n",
        "\n",
        "    # Retornar la mejor secuencia generada\n",
        "    best_seq = max(sequences, key=lambda x: x[0])[1]\n",
        "    return decode_sequence(best_seq)\n"
      ],
      "metadata": {
        "id": "Y1RR1-MpiW-o"
      },
      "execution_count": 34,
      "outputs": []
    },
    {
      "cell_type": "code",
      "source": [
        "generate_beam_search_stochastic(\n",
        "    model,\n",
        "    start_text=\"Había una vez\",\n",
        "    length=300,\n",
        "    beam_width=5,\n",
        "    temperature=0.8\n",
        ")"
      ],
      "metadata": {
        "colab": {
          "base_uri": "https://localhost:8080/",
          "height": 53
        },
        "id": "DNNlfrGBie72",
        "outputId": "e8bf3706-8b65-42a8-9329-dec5b8f768cd"
      },
      "execution_count": 36,
      "outputs": [
        {
          "output_type": "execute_result",
          "data": {
            "text/plain": [
              "'Había una vez en el mismo inmediatamente. Hawkins ese es todo un hombre, con una verdadera todos los marinos de todos los marineros que yo tenía yo con ese estaba el Caballero Trelawney ya de los aparejos con el caballero Trelawney? Tener yo con ese estaba el Caballero Trelawney ya de los marineros que estaban a'"
            ],
            "application/vnd.google.colaboratory.intrinsic+json": {
              "type": "string"
            }
          },
          "metadata": {},
          "execution_count": 36
        }
      ]
    },
    {
      "cell_type": "markdown",
      "source": [
        "Mejor usos de personajes,mejor creatividad gracias a temperatura. Con buena estrucutra narrativa."
      ],
      "metadata": {
        "id": "bnnCL2D3i5Z9"
      }
    },
    {
      "cell_type": "code",
      "source": [
        "!pip install -q gradio"
      ],
      "metadata": {
        "colab": {
          "base_uri": "https://localhost:8080/"
        },
        "id": "uDLmi3EMjjEx",
        "outputId": "d52368a6-5180-4069-eaa3-897bb39ef84e"
      },
      "execution_count": 38,
      "outputs": [
        {
          "output_type": "stream",
          "name": "stdout",
          "text": [
            "\u001b[2K   \u001b[90m━━━━━━━━━━━━━━━━━━━━━━━━━━━━━━━━━━━━━━━━\u001b[0m \u001b[32m54.2/54.2 MB\u001b[0m \u001b[31m17.4 MB/s\u001b[0m eta \u001b[36m0:00:00\u001b[0m\n",
            "\u001b[2K   \u001b[90m━━━━━━━━━━━━━━━━━━━━━━━━━━━━━━━━━━━━━━━━\u001b[0m \u001b[32m323.3/323.3 kB\u001b[0m \u001b[31m26.9 MB/s\u001b[0m eta \u001b[36m0:00:00\u001b[0m\n",
            "\u001b[2K   \u001b[90m━━━━━━━━━━━━━━━━━━━━━━━━━━━━━━━━━━━━━━━━\u001b[0m \u001b[32m95.2/95.2 kB\u001b[0m \u001b[31m8.0 MB/s\u001b[0m eta \u001b[36m0:00:00\u001b[0m\n",
            "\u001b[2K   \u001b[90m━━━━━━━━━━━━━━━━━━━━━━━━━━━━━━━━━━━━━━━━\u001b[0m \u001b[32m11.5/11.5 MB\u001b[0m \u001b[31m135.9 MB/s\u001b[0m eta \u001b[36m0:00:00\u001b[0m\n",
            "\u001b[2K   \u001b[90m━━━━━━━━━━━━━━━━━━━━━━━━━━━━━━━━━━━━━━━━\u001b[0m \u001b[32m72.0/72.0 kB\u001b[0m \u001b[31m6.9 MB/s\u001b[0m eta \u001b[36m0:00:00\u001b[0m\n",
            "\u001b[2K   \u001b[90m━━━━━━━━━━━━━━━━━━━━━━━━━━━━━━━━━━━━━━━━\u001b[0m \u001b[32m62.5/62.5 kB\u001b[0m \u001b[31m5.8 MB/s\u001b[0m eta \u001b[36m0:00:00\u001b[0m\n",
            "\u001b[?25h"
          ]
        }
      ]
    },
    {
      "cell_type": "code",
      "source": [
        "import gradio as gr\n",
        "\n",
        "# Función general de generación\n",
        "def generar_texto(input_text, estrategia, longitud, beam_width, temperatura):\n",
        "    if not input_text.strip():\n",
        "        return \"Por favor ingresa un texto inicial.\"\n",
        "\n",
        "    try:\n",
        "        if estrategia == \"Greedy\":\n",
        "            return generate_greedy(model, input_text, length=longitud)\n",
        "        elif estrategia == \"Beam search determinístico\":\n",
        "            return generate_beam_search(model, input_text, length=longitud, beam_width=beam_width)\n",
        "        elif estrategia == \"Beam search estocástico\":\n",
        "            return generate_beam_search_stochastic(\n",
        "                model, input_text, length=longitud, beam_width=beam_width, temperature=temperatura\n",
        "            )\n",
        "        else:\n",
        "            return \"Estrategia no válida.\"\n",
        "    except Exception as e:\n",
        "        return f\"Error durante la generación: {str(e)}\"\n",
        "\n",
        "# Interfaz Gradio\n",
        "gr.Interface(\n",
        "    fn=generar_texto,\n",
        "    inputs=[\n",
        "        gr.Textbox(lines=2, label=\"Texto inicial\", placeholder=\"Ej: Había una vez...\", max_lines=4),\n",
        "        gr.Radio(\n",
        "            [\"Greedy\", \"Beam search determinístico\", \"Beam search estocástico\"],\n",
        "            label=\"Estrategia de generación\"\n",
        "        ),\n",
        "        gr.Slider(100, 1000, value=300, step=50, label=\"Longitud del texto generado\"),\n",
        "        gr.Slider(1, 10, value=3, step=1, label=\"Beam width (solo para beam search)\"),\n",
        "        gr.Slider(0.2, 2.0, value=1.0, step=0.1, label=\"Temperatura (solo para beam estocástico)\")\n",
        "    ],\n",
        "    outputs=gr.Textbox(label=\"Texto generado\"),\n",
        "    title=\"Generador de Texto con LSTM\",\n",
        "    description=\"Explora diferentes estrategias de generación usando un modelo LSTM entrenado con el texto de *La isla del tesoro*.\",\n",
        "    theme=\"default\",\n",
        "    allow_flagging=\"never\"\n",
        ").launch(share=True)\n"
      ],
      "metadata": {
        "colab": {
          "base_uri": "https://localhost:8080/",
          "height": 645
        },
        "id": "xvRy4xfljZnI",
        "outputId": "257af56a-e418-48d1-ad95-5b83e477366e"
      },
      "execution_count": 39,
      "outputs": [
        {
          "output_type": "stream",
          "name": "stderr",
          "text": [
            "/usr/local/lib/python3.11/dist-packages/gradio/interface.py:416: UserWarning: The `allow_flagging` parameter in `Interface` is deprecated.Use `flagging_mode` instead.\n",
            "  warnings.warn(\n"
          ]
        },
        {
          "output_type": "stream",
          "name": "stdout",
          "text": [
            "Colab notebook detected. To show errors in colab notebook, set debug=True in launch()\n",
            "* Running on public URL: https://e70c0b6ceb30571504.gradio.live\n",
            "\n",
            "This share link expires in 1 week. For free permanent hosting and GPU upgrades, run `gradio deploy` from the terminal in the working directory to deploy to Hugging Face Spaces (https://huggingface.co/spaces)\n"
          ]
        },
        {
          "output_type": "display_data",
          "data": {
            "text/plain": [
              "<IPython.core.display.HTML object>"
            ],
            "text/html": [
              "<div><iframe src=\"https://e70c0b6ceb30571504.gradio.live\" width=\"100%\" height=\"500\" allow=\"autoplay; camera; microphone; clipboard-read; clipboard-write;\" frameborder=\"0\" allowfullscreen></iframe></div>"
            ]
          },
          "metadata": {}
        },
        {
          "output_type": "execute_result",
          "data": {
            "text/plain": []
          },
          "metadata": {},
          "execution_count": 39
        }
      ]
    }
  ]
}